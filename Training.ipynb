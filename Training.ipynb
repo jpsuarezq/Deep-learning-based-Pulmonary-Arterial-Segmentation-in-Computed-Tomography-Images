{
  "cells": [
    {
      "cell_type": "markdown",
      "metadata": {
        "id": "HQO4cBaEcAGz"
      },
      "source": [
        "**Red** de 28' de parámetros entrenada con 10k de datos, entrada de 128x128 y salida 128x128x1\n",
        "\n",
        "Final final"
      ]
    },
    {
      "cell_type": "markdown",
      "metadata": {
        "id": "vKq_byXYXc7y"
      },
      "source": [
        "\n",
        "\n",
        "# Inicializar colab, definir parametros de entrenamiento y ruta de datos"
      ]
    },
    {
      "cell_type": "markdown",
      "metadata": {
        "id": "NDAvupGzVHDm"
      },
      "source": [
        "Modificacion de red neuronal de entrada 128x128x3 con un total de 28.000.000 parámetros entrenables. Se aplicará tecnica de fine-tuning con 10000 datos. batch_size = 16\n",
        "epochs = 50"
      ]
    },
    {
      "cell_type": "code",
      "execution_count": 1,
      "metadata": {
        "colab": {
          "base_uri": "https://localhost:8080/"
        },
        "id": "2sGi8qDgVjpA",
        "outputId": "a700b7e4-231d-43ad-b69f-ee1972fe994b"
      },
      "outputs": [
        {
          "output_type": "stream",
          "name": "stdout",
          "text": [
            "Mounted at /content/drive\n"
          ]
        }
      ],
      "source": [
        "from google.colab import drive\n",
        "drive.mount('/content/drive')"
      ]
    },
    {
      "cell_type": "code",
      "execution_count": 2,
      "metadata": {
        "id": "53539GXESr_m"
      },
      "outputs": [],
      "source": [
        "import os\n",
        "import numpy as np\n",
        "from tqdm import tqdm\n",
        "from skimage.io import imread, imshow\n",
        "from skimage.transform import resize\n",
        "import matplotlib.pyplot as plt\n",
        "import datetime\n",
        "\n",
        "# Librerias para constuir la arquitectura U-Net\n",
        "from tensorflow.keras.layers import Conv2D, Lambda, MaxPooling2D, BatchNormalization, Activation, MaxPool2D, UpSampling2D, Concatenate, Input, ZeroPadding2D\n",
        "from tensorflow.keras.models import Model\n",
        "import tensorflow as tf\n",
        "\n",
        "width_shape, height_shape = 128, 128 # Tamaño de las imagenes de entrada\n",
        "#width_shape, height_shape = 256, 256 # Tamaño de las imagenes de entrada\n",
        "batch_size = 16\n",
        "epochs = 50\n"
      ]
    },
    {
      "cell_type": "code",
      "execution_count": 4,
      "metadata": {
        "id": "nGCLKICxY46m"
      },
      "outputs": [],
      "source": [
        "#data_path_train=\"/content/drive/MyDrive/DATA_w_mask/train\"\n",
        "\n",
        "data_path_train=\"/content/drive/MyDrive/Universidad/CPS/Trabajo_de_Grado/Pulmonary/DATA_w_mask/train\"\n",
        "\n",
        "#data_path_test=\"/content/drive/MyDrive/DATA_w_mask/test\"\n",
        "\n",
        "data_path_test=\"/content/drive/MyDrive/Universidad/CPS/Trabajo_de_Grado/Pulmonary/DATA_w_mask/test\"\n",
        "# obtenemos una lista con los archivos dentro de cada carpeta\n",
        "data_list_train = os.listdir(data_path_train)\n",
        "data_list_test = os.listdir(data_path_test)"
      ]
    },
    {
      "cell_type": "markdown",
      "metadata": {
        "id": "84150syMXt6K"
      },
      "source": [
        "# Funciones\n",
        "*   Carga de datos\n",
        "*   Gráfica de resultados de entrenamiento\n",
        "*   MDC\n",
        "*   Gráfica img,pred,label\n"
      ]
    },
    {
      "cell_type": "code",
      "execution_count": 29,
      "metadata": {
        "id": "T8p_a8G_Vui4"
      },
      "outputs": [],
      "source": [
        "def umbral(img):\n",
        "    aux=[]\n",
        "    n,m,_=img.shape\n",
        "    for i in range(n):\n",
        "        for j in range(m):\n",
        "            valu=img[i,j]\n",
        "            if valu>0:\n",
        "                aux.append(valu)\n",
        "\n",
        "    va=np.mean(aux)\n",
        "    return va\n",
        "\n",
        "def umbral2(img,um):\n",
        "    n,m,_=img.shape\n",
        "    aux=np.zeros((n,m))\n",
        "    for i in range(n):\n",
        "        for j in range(m):\n",
        "            valor=img[i,j]\n",
        "            if valor>um:\n",
        "                aux[i,j]=1\n",
        "            else:\n",
        "                pass\n",
        "\n",
        "    return aux\n",
        "\n",
        "def gris(img):\n",
        "    R, G, B = img[:,:,0], img[:,:,1], img[:,:,2]\n",
        "    imgGray = 0.2989 * R + 0.5870 * G + 0.1140 * B\n",
        "    aux=imgGray\n",
        "\n",
        "    return aux\n",
        "\n",
        "def loaddata(data_list_train):\n",
        "\n",
        "    Xtrain=[]\n",
        "    Ytrain=[]\n",
        "    Xtest=[]\n",
        "    orig_label=[]\n",
        "\n",
        "    # Recorremos la carpeta train\n",
        "    for folder in tqdm(data_list_train):\n",
        "    #for i in range(10):\n",
        "        #folder=data_list_train[i]\n",
        "\n",
        "        # leemos cada imagen del dataset de entrenamiento y la redimensionamos\n",
        "        name=data_path_train +\"/\"+folder+ '/image/' + folder+'.png'\n",
        "        img = imread(name)[:,:,:3]\n",
        "        img = gris(img)\n",
        "        img = resize(img, (height_shape, width_shape),mode='constant', preserve_range=True)\n",
        "        #img = img[:,:,None]\n",
        "        # Agregamos cada imagen a la lista Xtrain\n",
        "        Xtrain.append(img)\n",
        "        #print(\"archivo:\"+name)\n",
        "\n",
        "        mask = data_path_train +\"/\"+folder+ '/masks/' + folder+'_mask.png'\n",
        "        img2 = imread(mask)[:,:,:3]\n",
        "        img2 = gris(img2)\n",
        "        img2 = resize(img2,(height_shape, width_shape),mode='constant', preserve_range=True)\n",
        "        aux = img2[:,:,None]\n",
        "        orig_label.append(aux)\n",
        "        val = umbral(aux)\n",
        "        img2 = umbral2(aux,val)\n",
        "        img2 = img2[:,:,None]\n",
        "        # Agregamos cada mascara a la lista Ytrain\n",
        "        Ytrain.append(img2)\n",
        "\n",
        "        #data_list_train = data_list_train1\n",
        "\n",
        "    from sklearn.model_selection import train_test_split\n",
        "\n",
        "    X_train, X_test, Y_train, Y_test = train_test_split(Xtrain,Ytrain,random_state=104, train_size=0.8, shuffle=True)\n",
        "\n",
        "    print(\"\\n\")\n",
        "    X_train = np.asarray(X_train,dtype=np.float32)\n",
        "    print('Xtrain:',X_train.shape)\n",
        "\n",
        "    Y_train = np.asarray(Y_train,dtype=np.float32)\n",
        "    print('Ytrain:',Y_train.shape)\n",
        "\n",
        "    X_test = np.asarray(X_test,dtype=np.float32)\n",
        "    print('Xtest:',X_test.shape)\n",
        "\n",
        "    Y_test = np.asarray(Y_test,dtype=np.float32)\n",
        "    print('Ytest:',Y_test.shape)\n",
        "\n",
        "    orig_label = np.asarray(orig_label,dtype=np.float32)\n",
        "\n",
        "    X_train /=255\n",
        "    #Y_train /=255\n",
        "    X_test /=255\n",
        "    #Y_test /=255\n",
        "    orig_label/=255\n",
        "\n",
        "    return X_train,Y_train,X_test,Y_test,orig_label\n",
        "\n",
        "def gra_train(results):\n",
        "    #results.history to see all keys\n",
        "    preci = results.history['precision']\n",
        "    val_preci = results.history['val_precision']\n",
        "\n",
        "    re_call = results.history['recall']\n",
        "    val_re_call = results.history['val_recall']\n",
        "\n",
        "    loss = results.history['loss']\n",
        "    val_loss = results.history['val_loss']\n",
        "\n",
        "\n",
        "    epochs_range = range(len(preci))\n",
        "\n",
        "    fig, axs = plt.subplots(1,3, figsize=(15, 10))\n",
        "    fig.suptitle(\"Metrics\", fontsize=15)\n",
        "\n",
        "    #Precision\n",
        "    axs[0].plot(epochs_range, preci, label='Training Precision')\n",
        "    axs[0].plot(epochs_range, val_preci, label='Validation Precision')\n",
        "    axs[0].legend(loc='upper right')\n",
        "    axs[0].set_title('Training and Validation Precision')\n",
        "    axs[0].set_xlabel('Epochs')\n",
        "    axs[0].set_ylabel('Value')\n",
        "    fig.suptitle(\"Metrics\", fontsize=15)\n",
        "\n",
        "    #Recall\n",
        "    axs[1].plot(epochs_range, re_call, label='Training Recall')\n",
        "    axs[1].plot(epochs_range, val_re_call, label='Validation Recall')\n",
        "    axs[1].legend(loc='upper right')\n",
        "    axs[1].set_title('Training and Validation Recall')\n",
        "    axs[1].set_xlabel('Epochs')\n",
        "    axs[1].set_ylabel('Value')\n",
        "    fig.suptitle(\"Metrics\", fontsize=15)\n",
        "\n",
        "    #loss\n",
        "    axs[2].plot(epochs_range, loss, label='Training Loss')\n",
        "    axs[2].plot(epochs_range,  val_loss, label='Validation Loss')\n",
        "    axs[2].legend(loc='upper right')\n",
        "    axs[2].set_title('Training and Validation Loss')\n",
        "    axs[2].set_xlabel('Epochs')\n",
        "    axs[2].set_ylabel('Value')\n"
      ]
    },
    {
      "cell_type": "code",
      "execution_count": 6,
      "metadata": {
        "id": "l77tU2gqGlfW"
      },
      "outputs": [],
      "source": [
        "import numpy as np\n",
        "\n",
        "def multi_level_dice(img1, img2, n_levels):\n",
        "    \"\"\"\n",
        "    Calcula el coeficiente de similitud de Dice de múltiples niveles para dos imágenes segmentadas.\n",
        "\n",
        "    :param img1: Primera imagen segmentada\n",
        "    :param img2: Segunda imagen segmentada\n",
        "    :param n_levels: Número de niveles\n",
        "    :return: Coeficiente de similitud de Dice de múltiples niveles\n",
        "    \"\"\"\n",
        "    dice_levels = []\n",
        "    weight_levels = []\n",
        "\n",
        "    for i in range(n_levels):\n",
        "        scale = 2 ** i\n",
        "        img1_scale = img1[::scale, ::scale]\n",
        "        img2_scale = img2[::scale, ::scale]\n",
        "\n",
        "        intersection = np.logical_and(img1_scale, img2_scale)\n",
        "        weight = np.sum(intersection) / (np.sum(img1_scale) + np.sum(img2_scale))\n",
        "        weight_levels.append(weight)\n",
        "\n",
        "        if weight == 0:\n",
        "            dice = 0\n",
        "        else:\n",
        "            dice = 2 * np.sum(intersection) / (np.sum(img1_scale) + np.sum(img2_scale))\n",
        "        dice_levels.append(dice)\n",
        "\n",
        "    dice_multi_level = np.average(dice_levels, weights=weight_levels)\n",
        "\n",
        "    if np.isnan(dice_multi_level)==True:\n",
        "        return 0\n",
        "    else:\n",
        "        return dice_multi_level\n"
      ]
    },
    {
      "cell_type": "code",
      "execution_count": 7,
      "metadata": {
        "id": "2WOLOizzLfk7"
      },
      "outputs": [],
      "source": [
        "def plot_predict(image,predict,test):\n",
        "    fig, axs = plt.subplots(1,3,figsize=(20, 20) )\n",
        "    axs = axs.flatten()\n",
        "\n",
        "    axs[0].imshow(image, cmap=\"gray\")\n",
        "    axs[0].set_axis_off()\n",
        "    axs[0].set_title('Image')\n",
        "\n",
        "    axs[1].imshow(predict, cmap=\"gray\")\n",
        "    axs[1].set_axis_off()\n",
        "    axs[1].set_title('Predict')\n",
        "\n",
        "    axs[2].imshow(test, cmap=\"gray\")\n",
        "    axs[2].set_axis_off()\n",
        "    axs[2].set_title('Label')\n",
        "\n"
      ]
    },
    {
      "cell_type": "code",
      "execution_count": 8,
      "metadata": {
        "id": "-oKXQnPYwA5K"
      },
      "outputs": [],
      "source": [
        "def dice_coefficient(img1, img2):\n",
        "    intersection = np.sum(np.logical_and(img1, img2))\n",
        "    union = np.sum(np.logical_or(img1, img2))\n",
        "    coefficient = 2 * intersection / (union + intersection)\n",
        "    return coefficient"
      ]
    },
    {
      "cell_type": "markdown",
      "metadata": {
        "id": "l9raA994X3Q4"
      },
      "source": [
        "# Red"
      ]
    },
    {
      "cell_type": "code",
      "execution_count": 62,
      "metadata": {
        "id": "f_iqathAS3G_",
        "colab": {
          "base_uri": "https://localhost:8080/"
        },
        "outputId": "02655a19-fecb-4401-c3b9-256677388857"
      },
      "outputs": [
        {
          "output_type": "stream",
          "name": "stdout",
          "text": [
            "(None, 128, 128, 1)\n",
            "primer residual block\n",
            "(None, 64, 64, 16)\n",
            "Enco 0\n",
            "(None, 64, 64, 32)\n",
            "encoding 1\n",
            "(None, 32, 32, 64)\n",
            "encoding 2\n",
            "(None, 16, 16, 128)\n",
            "encoding 3\n",
            "(None, 8, 8, 256)\n",
            "encoding 4\n",
            "(None, 4, 4, 512)\n",
            "residual block btw\n",
            "(None, 2, 2, 512)\n",
            "(None, 4, 4, 512)\n",
            "Decoding\n",
            "dencoding 0\n",
            "(None, 8, 8, 512)\n",
            "dencoding 1\n",
            "(None, 16, 16, 256)\n",
            "dencoding 2\n",
            "(None, 32, 32, 128)\n",
            "dencoding 3\n",
            "(None, 64, 64, 64)\n",
            "dencoding 4\n",
            "(None, 128, 128, 32)\n",
            "(None, 128, 128, 1)\n",
            "Model: \"model_2\"\n",
            "__________________________________________________________________________________________________\n",
            " Layer (type)                Output Shape                 Param #   Connected to                  \n",
            "==================================================================================================\n",
            " input_6 (InputLayer)        [(None, 128, 128, 1)]        0         []                            \n",
            "                                                                                                  \n",
            " batch_normalization_62 (Ba  (None, 128, 128, 1)          4         ['input_6[0][0]']             \n",
            " tchNormalization)                                                                                \n",
            "                                                                                                  \n",
            " activation_62 (Activation)  (None, 128, 128, 1)          0         ['batch_normalization_62[1][0]\n",
            "                                                                    ']                            \n",
            "                                                                                                  \n",
            " conv2d_70 (Conv2D)          (None, 64, 64, 16)           160       ['activation_62[1][0]']       \n",
            "                                                                                                  \n",
            " batch_normalization_63 (Ba  (None, 64, 64, 16)           64        ['conv2d_70[1][0]']           \n",
            " tchNormalization)                                                                                \n",
            "                                                                                                  \n",
            " activation_63 (Activation)  (None, 64, 64, 16)           0         ['batch_normalization_63[1][0]\n",
            "                                                                    ']                            \n",
            "                                                                                                  \n",
            " conv2d_71 (Conv2D)          (None, 64, 64, 16)           2320      ['activation_63[1][0]']       \n",
            "                                                                                                  \n",
            " conv2d_72 (Conv2D)          (None, 64, 64, 16)           32        ['input_6[0][0]']             \n",
            "                                                                                                  \n",
            " tf.__operators__.add_40 (T  (None, 64, 64, 16)           0         ['conv2d_71[1][0]',           \n",
            " FOpLambda)                                                          'conv2d_72[1][0]']           \n",
            "                                                                                                  \n",
            " conv2d_73 (Conv2D)          (None, 64, 64, 32)           4640      ['tf.__operators__.add_40[1][0\n",
            "                                                                    ]']                           \n",
            "                                                                                                  \n",
            " batch_normalization_64 (Ba  (None, 64, 64, 32)           128       ['conv2d_73[1][0]']           \n",
            " tchNormalization)                                                                                \n",
            "                                                                                                  \n",
            " activation_64 (Activation)  (None, 64, 64, 32)           0         ['batch_normalization_64[1][0]\n",
            "                                                                    ']                            \n",
            "                                                                                                  \n",
            " conv2d_74 (Conv2D)          (None, 32, 32, 64)           18496     ['activation_64[1][0]']       \n",
            "                                                                                                  \n",
            " batch_normalization_65 (Ba  (None, 64, 64, 32)           128       ['conv2d_73[1][0]']           \n",
            " tchNormalization)                                                                                \n",
            "                                                                                                  \n",
            " activation_65 (Activation)  (None, 64, 64, 32)           0         ['batch_normalization_65[1][0]\n",
            "                                                                    ']                            \n",
            "                                                                                                  \n",
            " batch_normalization_66 (Ba  (None, 32, 32, 64)           256       ['conv2d_74[1][0]']           \n",
            " tchNormalization)                                                                                \n",
            "                                                                                                  \n",
            " conv2d_75 (Conv2D)          (None, 32, 32, 64)           18496     ['activation_65[1][0]']       \n",
            "                                                                                                  \n",
            " activation_66 (Activation)  (None, 32, 32, 64)           0         ['batch_normalization_66[1][0]\n",
            "                                                                    ']                            \n",
            "                                                                                                  \n",
            " tf.__operators__.add_41 (T  (None, 32, 32, 64)           0         ['conv2d_74[1][0]',           \n",
            " FOpLambda)                                                          'conv2d_75[1][0]']           \n",
            "                                                                                                  \n",
            " conv2d_76 (Conv2D)          (None, 32, 32, 64)           36928     ['activation_66[1][0]']       \n",
            "                                                                                                  \n",
            " tf.__operators__.add_42 (T  (None, 32, 32, 64)           0         ['tf.__operators__.add_41[1][0\n",
            " FOpLambda)                                                         ]',                           \n",
            "                                                                     'conv2d_76[1][0]']           \n",
            "                                                                                                  \n",
            " batch_normalization_67 (Ba  (None, 32, 32, 64)           256       ['tf.__operators__.add_42[1][0\n",
            " tchNormalization)                                                  ]']                           \n",
            "                                                                                                  \n",
            " activation_67 (Activation)  (None, 32, 32, 64)           0         ['batch_normalization_67[1][0]\n",
            "                                                                    ']                            \n",
            "                                                                                                  \n",
            " conv2d_77 (Conv2D)          (None, 16, 16, 128)          73856     ['activation_67[1][0]']       \n",
            "                                                                                                  \n",
            " batch_normalization_68 (Ba  (None, 32, 32, 64)           256       ['tf.__operators__.add_42[1][0\n",
            " tchNormalization)                                                  ]']                           \n",
            "                                                                                                  \n",
            " activation_68 (Activation)  (None, 32, 32, 64)           0         ['batch_normalization_68[1][0]\n",
            "                                                                    ']                            \n",
            "                                                                                                  \n",
            " batch_normalization_69 (Ba  (None, 16, 16, 128)          512       ['conv2d_77[1][0]']           \n",
            " tchNormalization)                                                                                \n",
            "                                                                                                  \n",
            " conv2d_78 (Conv2D)          (None, 16, 16, 128)          73856     ['activation_68[1][0]']       \n",
            "                                                                                                  \n",
            " activation_69 (Activation)  (None, 16, 16, 128)          0         ['batch_normalization_69[1][0]\n",
            "                                                                    ']                            \n",
            "                                                                                                  \n",
            " tf.__operators__.add_43 (T  (None, 16, 16, 128)          0         ['conv2d_77[1][0]',           \n",
            " FOpLambda)                                                          'conv2d_78[1][0]']           \n",
            "                                                                                                  \n",
            " conv2d_79 (Conv2D)          (None, 16, 16, 128)          147584    ['activation_69[1][0]']       \n",
            "                                                                                                  \n",
            " tf.__operators__.add_44 (T  (None, 16, 16, 128)          0         ['tf.__operators__.add_43[1][0\n",
            " FOpLambda)                                                         ]',                           \n",
            "                                                                     'conv2d_79[1][0]']           \n",
            "                                                                                                  \n",
            " batch_normalization_70 (Ba  (None, 16, 16, 128)          512       ['tf.__operators__.add_44[1][0\n",
            " tchNormalization)                                                  ]']                           \n",
            "                                                                                                  \n",
            " activation_70 (Activation)  (None, 16, 16, 128)          0         ['batch_normalization_70[1][0]\n",
            "                                                                    ']                            \n",
            "                                                                                                  \n",
            " conv2d_80 (Conv2D)          (None, 8, 8, 256)            295168    ['activation_70[1][0]']       \n",
            "                                                                                                  \n",
            " batch_normalization_71 (Ba  (None, 16, 16, 128)          512       ['tf.__operators__.add_44[1][0\n",
            " tchNormalization)                                                  ]']                           \n",
            "                                                                                                  \n",
            " activation_71 (Activation)  (None, 16, 16, 128)          0         ['batch_normalization_71[1][0]\n",
            "                                                                    ']                            \n",
            "                                                                                                  \n",
            " batch_normalization_72 (Ba  (None, 8, 8, 256)            1024      ['conv2d_80[1][0]']           \n",
            " tchNormalization)                                                                                \n",
            "                                                                                                  \n",
            " conv2d_81 (Conv2D)          (None, 8, 8, 256)            295168    ['activation_71[1][0]']       \n",
            "                                                                                                  \n",
            " activation_72 (Activation)  (None, 8, 8, 256)            0         ['batch_normalization_72[1][0]\n",
            "                                                                    ']                            \n",
            "                                                                                                  \n",
            " tf.__operators__.add_45 (T  (None, 8, 8, 256)            0         ['conv2d_80[1][0]',           \n",
            " FOpLambda)                                                          'conv2d_81[1][0]']           \n",
            "                                                                                                  \n",
            " conv2d_82 (Conv2D)          (None, 8, 8, 256)            590080    ['activation_72[1][0]']       \n",
            "                                                                                                  \n",
            " tf.__operators__.add_46 (T  (None, 8, 8, 256)            0         ['tf.__operators__.add_45[1][0\n",
            " FOpLambda)                                                         ]',                           \n",
            "                                                                     'conv2d_82[1][0]']           \n",
            "                                                                                                  \n",
            " batch_normalization_73 (Ba  (None, 8, 8, 256)            1024      ['tf.__operators__.add_46[1][0\n",
            " tchNormalization)                                                  ]']                           \n",
            "                                                                                                  \n",
            " activation_73 (Activation)  (None, 8, 8, 256)            0         ['batch_normalization_73[1][0]\n",
            "                                                                    ']                            \n",
            "                                                                                                  \n",
            " conv2d_83 (Conv2D)          (None, 4, 4, 512)            1180160   ['activation_73[1][0]']       \n",
            "                                                                                                  \n",
            " batch_normalization_74 (Ba  (None, 8, 8, 256)            1024      ['tf.__operators__.add_46[1][0\n",
            " tchNormalization)                                                  ]']                           \n",
            "                                                                                                  \n",
            " activation_74 (Activation)  (None, 8, 8, 256)            0         ['batch_normalization_74[1][0]\n",
            "                                                                    ']                            \n",
            "                                                                                                  \n",
            " batch_normalization_75 (Ba  (None, 4, 4, 512)            2048      ['conv2d_83[1][0]']           \n",
            " tchNormalization)                                                                                \n",
            "                                                                                                  \n",
            " conv2d_84 (Conv2D)          (None, 4, 4, 512)            1180160   ['activation_74[1][0]']       \n",
            "                                                                                                  \n",
            " activation_75 (Activation)  (None, 4, 4, 512)            0         ['batch_normalization_75[1][0]\n",
            "                                                                    ']                            \n",
            "                                                                                                  \n",
            " tf.__operators__.add_47 (T  (None, 4, 4, 512)            0         ['conv2d_83[1][0]',           \n",
            " FOpLambda)                                                          'conv2d_84[1][0]']           \n",
            "                                                                                                  \n",
            " conv2d_85 (Conv2D)          (None, 4, 4, 512)            2359808   ['activation_75[1][0]']       \n",
            "                                                                                                  \n",
            " tf.__operators__.add_48 (T  (None, 4, 4, 512)            0         ['tf.__operators__.add_47[1][0\n",
            " FOpLambda)                                                         ]',                           \n",
            "                                                                     'conv2d_85[1][0]']           \n",
            "                                                                                                  \n",
            " batch_normalization_76 (Ba  (None, 4, 4, 512)            2048      ['tf.__operators__.add_48[1][0\n",
            " tchNormalization)                                                  ]']                           \n",
            "                                                                                                  \n",
            " activation_76 (Activation)  (None, 4, 4, 512)            0         ['batch_normalization_76[1][0]\n",
            "                                                                    ']                            \n",
            "                                                                                                  \n",
            " conv2d_86 (Conv2D)          (None, 2, 2, 512)            2359808   ['activation_76[1][0]']       \n",
            "                                                                                                  \n",
            " batch_normalization_77 (Ba  (None, 2, 2, 512)            2048      ['conv2d_86[1][0]']           \n",
            " tchNormalization)                                                                                \n",
            "                                                                                                  \n",
            " activation_77 (Activation)  (None, 2, 2, 512)            0         ['batch_normalization_77[1][0]\n",
            "                                                                    ']                            \n",
            "                                                                                                  \n",
            " conv2d_87 (Conv2D)          (None, 2, 2, 512)            2359808   ['activation_77[1][0]']       \n",
            "                                                                                                  \n",
            " conv2d_88 (Conv2D)          (None, 2, 2, 512)            262656    ['tf.__operators__.add_48[1][0\n",
            "                                                                    ]']                           \n",
            "                                                                                                  \n",
            " tf.__operators__.add_49 (T  (None, 2, 2, 512)            0         ['conv2d_87[1][0]',           \n",
            " FOpLambda)                                                          'conv2d_88[1][0]']           \n",
            "                                                                                                  \n",
            " up_sampling2d_12 (UpSampli  (None, 4, 4, 512)            0         ['tf.__operators__.add_49[1][0\n",
            " ng2D)                                                              ]']                           \n",
            "                                                                                                  \n",
            " concatenate_10 (Concatenat  (None, 4, 4, 1024)           0         ['up_sampling2d_12[1][0]',    \n",
            " e)                                                                  'tf.__operators__.add_48[1][0\n",
            "                                                                    ]']                           \n",
            "                                                                                                  \n",
            " batch_normalization_78 (Ba  (None, 4, 4, 1024)           4096      ['concatenate_10[1][0]']      \n",
            " tchNormalization)                                                                                \n",
            "                                                                                                  \n",
            " activation_78 (Activation)  (None, 4, 4, 1024)           0         ['batch_normalization_78[1][0]\n",
            "                                                                    ']                            \n",
            "                                                                                                  \n",
            " conv2d_89 (Conv2D)          (None, 4, 4, 512)            4719104   ['activation_78[1][0]']       \n",
            "                                                                                                  \n",
            " batch_normalization_79 (Ba  (None, 4, 4, 512)            2048      ['conv2d_89[1][0]']           \n",
            " tchNormalization)                                                                                \n",
            "                                                                                                  \n",
            " activation_79 (Activation)  (None, 4, 4, 512)            0         ['batch_normalization_79[1][0]\n",
            "                                                                    ']                            \n",
            "                                                                                                  \n",
            " batch_normalization_80 (Ba  (None, 4, 4, 1024)           4096      ['concatenate_10[1][0]']      \n",
            " tchNormalization)                                                                                \n",
            "                                                                                                  \n",
            " conv2d_90 (Conv2D)          (None, 4, 4, 512)            2359808   ['activation_79[1][0]']       \n",
            "                                                                                                  \n",
            " activation_80 (Activation)  (None, 4, 4, 1024)           0         ['batch_normalization_80[1][0]\n",
            "                                                                    ']                            \n",
            "                                                                                                  \n",
            " tf.__operators__.add_50 (T  (None, 4, 4, 512)            0         ['conv2d_89[1][0]',           \n",
            " FOpLambda)                                                          'conv2d_90[1][0]']           \n",
            "                                                                                                  \n",
            " conv2d_91 (Conv2D)          (None, 4, 4, 512)            4719104   ['activation_80[1][0]']       \n",
            "                                                                                                  \n",
            " tf.__operators__.add_51 (T  (None, 4, 4, 512)            0         ['tf.__operators__.add_50[1][0\n",
            " FOpLambda)                                                         ]',                           \n",
            "                                                                     'conv2d_91[1][0]']           \n",
            "                                                                                                  \n",
            " up_sampling2d_13 (UpSampli  (None, 8, 8, 512)            0         ['tf.__operators__.add_51[1][0\n",
            " ng2D)                                                              ]']                           \n",
            "                                                                                                  \n",
            " concatenate_11 (Concatenat  (None, 8, 8, 768)            0         ['up_sampling2d_13[1][0]',    \n",
            " e)                                                                  'tf.__operators__.add_46[1][0\n",
            "                                                                    ]']                           \n",
            "                                                                                                  \n",
            " batch_normalization_81 (Ba  (None, 8, 8, 768)            3072      ['concatenate_11[1][0]']      \n",
            " tchNormalization)                                                                                \n",
            "                                                                                                  \n",
            " activation_81 (Activation)  (None, 8, 8, 768)            0         ['batch_normalization_81[1][0]\n",
            "                                                                    ']                            \n",
            "                                                                                                  \n",
            " conv2d_92 (Conv2D)          (None, 8, 8, 256)            1769728   ['activation_81[1][0]']       \n",
            "                                                                                                  \n",
            " batch_normalization_82 (Ba  (None, 8, 8, 256)            1024      ['conv2d_92[1][0]']           \n",
            " tchNormalization)                                                                                \n",
            "                                                                                                  \n",
            " activation_82 (Activation)  (None, 8, 8, 256)            0         ['batch_normalization_82[1][0]\n",
            "                                                                    ']                            \n",
            "                                                                                                  \n",
            " batch_normalization_83 (Ba  (None, 8, 8, 768)            3072      ['concatenate_11[1][0]']      \n",
            " tchNormalization)                                                                                \n",
            "                                                                                                  \n",
            " conv2d_93 (Conv2D)          (None, 8, 8, 256)            590080    ['activation_82[1][0]']       \n",
            "                                                                                                  \n",
            " activation_83 (Activation)  (None, 8, 8, 768)            0         ['batch_normalization_83[1][0]\n",
            "                                                                    ']                            \n",
            "                                                                                                  \n",
            " tf.__operators__.add_52 (T  (None, 8, 8, 256)            0         ['conv2d_92[1][0]',           \n",
            " FOpLambda)                                                          'conv2d_93[1][0]']           \n",
            "                                                                                                  \n",
            " conv2d_94 (Conv2D)          (None, 8, 8, 256)            1769728   ['activation_83[1][0]']       \n",
            "                                                                                                  \n",
            " tf.__operators__.add_53 (T  (None, 8, 8, 256)            0         ['tf.__operators__.add_52[1][0\n",
            " FOpLambda)                                                         ]',                           \n",
            "                                                                     'conv2d_94[1][0]']           \n",
            "                                                                                                  \n",
            " up_sampling2d_14 (UpSampli  (None, 16, 16, 256)          0         ['tf.__operators__.add_53[1][0\n",
            " ng2D)                                                              ]']                           \n",
            "                                                                                                  \n",
            " concatenate_12 (Concatenat  (None, 16, 16, 384)          0         ['up_sampling2d_14[1][0]',    \n",
            " e)                                                                  'tf.__operators__.add_44[1][0\n",
            "                                                                    ]']                           \n",
            "                                                                                                  \n",
            " batch_normalization_84 (Ba  (None, 16, 16, 384)          1536      ['concatenate_12[1][0]']      \n",
            " tchNormalization)                                                                                \n",
            "                                                                                                  \n",
            " activation_84 (Activation)  (None, 16, 16, 384)          0         ['batch_normalization_84[1][0]\n",
            "                                                                    ']                            \n",
            "                                                                                                  \n",
            " conv2d_95 (Conv2D)          (None, 16, 16, 128)          442496    ['activation_84[1][0]']       \n",
            "                                                                                                  \n",
            " batch_normalization_85 (Ba  (None, 16, 16, 128)          512       ['conv2d_95[1][0]']           \n",
            " tchNormalization)                                                                                \n",
            "                                                                                                  \n",
            " activation_85 (Activation)  (None, 16, 16, 128)          0         ['batch_normalization_85[1][0]\n",
            "                                                                    ']                            \n",
            "                                                                                                  \n",
            " batch_normalization_86 (Ba  (None, 16, 16, 384)          1536      ['concatenate_12[1][0]']      \n",
            " tchNormalization)                                                                                \n",
            "                                                                                                  \n",
            " conv2d_96 (Conv2D)          (None, 16, 16, 128)          147584    ['activation_85[1][0]']       \n",
            "                                                                                                  \n",
            " activation_86 (Activation)  (None, 16, 16, 384)          0         ['batch_normalization_86[1][0]\n",
            "                                                                    ']                            \n",
            "                                                                                                  \n",
            " tf.__operators__.add_54 (T  (None, 16, 16, 128)          0         ['conv2d_95[1][0]',           \n",
            " FOpLambda)                                                          'conv2d_96[1][0]']           \n",
            "                                                                                                  \n",
            " conv2d_97 (Conv2D)          (None, 16, 16, 128)          442496    ['activation_86[1][0]']       \n",
            "                                                                                                  \n",
            " tf.__operators__.add_55 (T  (None, 16, 16, 128)          0         ['tf.__operators__.add_54[1][0\n",
            " FOpLambda)                                                         ]',                           \n",
            "                                                                     'conv2d_97[1][0]']           \n",
            "                                                                                                  \n",
            " up_sampling2d_15 (UpSampli  (None, 32, 32, 128)          0         ['tf.__operators__.add_55[1][0\n",
            " ng2D)                                                              ]']                           \n",
            "                                                                                                  \n",
            " concatenate_13 (Concatenat  (None, 32, 32, 192)          0         ['up_sampling2d_15[1][0]',    \n",
            " e)                                                                  'tf.__operators__.add_42[1][0\n",
            "                                                                    ]']                           \n",
            "                                                                                                  \n",
            " batch_normalization_87 (Ba  (None, 32, 32, 192)          768       ['concatenate_13[1][0]']      \n",
            " tchNormalization)                                                                                \n",
            "                                                                                                  \n",
            " activation_87 (Activation)  (None, 32, 32, 192)          0         ['batch_normalization_87[1][0]\n",
            "                                                                    ']                            \n",
            "                                                                                                  \n",
            " conv2d_98 (Conv2D)          (None, 32, 32, 64)           110656    ['activation_87[1][0]']       \n",
            "                                                                                                  \n",
            " batch_normalization_88 (Ba  (None, 32, 32, 64)           256       ['conv2d_98[1][0]']           \n",
            " tchNormalization)                                                                                \n",
            "                                                                                                  \n",
            " activation_88 (Activation)  (None, 32, 32, 64)           0         ['batch_normalization_88[1][0]\n",
            "                                                                    ']                            \n",
            "                                                                                                  \n",
            " batch_normalization_89 (Ba  (None, 32, 32, 192)          768       ['concatenate_13[1][0]']      \n",
            " tchNormalization)                                                                                \n",
            "                                                                                                  \n",
            " conv2d_99 (Conv2D)          (None, 32, 32, 64)           36928     ['activation_88[1][0]']       \n",
            "                                                                                                  \n",
            " activation_89 (Activation)  (None, 32, 32, 192)          0         ['batch_normalization_89[1][0]\n",
            "                                                                    ']                            \n",
            "                                                                                                  \n",
            " tf.__operators__.add_56 (T  (None, 32, 32, 64)           0         ['conv2d_98[1][0]',           \n",
            " FOpLambda)                                                          'conv2d_99[1][0]']           \n",
            "                                                                                                  \n",
            " conv2d_100 (Conv2D)         (None, 32, 32, 64)           110656    ['activation_89[1][0]']       \n",
            "                                                                                                  \n",
            " tf.__operators__.add_57 (T  (None, 32, 32, 64)           0         ['tf.__operators__.add_56[1][0\n",
            " FOpLambda)                                                         ]',                           \n",
            "                                                                     'conv2d_100[1][0]']          \n",
            "                                                                                                  \n",
            " up_sampling2d_16 (UpSampli  (None, 64, 64, 64)           0         ['tf.__operators__.add_57[1][0\n",
            " ng2D)                                                              ]']                           \n",
            "                                                                                                  \n",
            " concatenate_14 (Concatenat  (None, 64, 64, 96)           0         ['up_sampling2d_16[1][0]',    \n",
            " e)                                                                  'conv2d_73[1][0]']           \n",
            "                                                                                                  \n",
            " batch_normalization_90 (Ba  (None, 64, 64, 96)           384       ['concatenate_14[1][0]']      \n",
            " tchNormalization)                                                                                \n",
            "                                                                                                  \n",
            " activation_90 (Activation)  (None, 64, 64, 96)           0         ['batch_normalization_90[1][0]\n",
            "                                                                    ']                            \n",
            "                                                                                                  \n",
            " conv2d_101 (Conv2D)         (None, 64, 64, 32)           27680     ['activation_90[1][0]']       \n",
            "                                                                                                  \n",
            " batch_normalization_91 (Ba  (None, 64, 64, 32)           128       ['conv2d_101[1][0]']          \n",
            " tchNormalization)                                                                                \n",
            "                                                                                                  \n",
            " activation_91 (Activation)  (None, 64, 64, 32)           0         ['batch_normalization_91[1][0]\n",
            "                                                                    ']                            \n",
            "                                                                                                  \n",
            " batch_normalization_92 (Ba  (None, 64, 64, 96)           384       ['concatenate_14[1][0]']      \n",
            " tchNormalization)                                                                                \n",
            "                                                                                                  \n",
            " conv2d_102 (Conv2D)         (None, 64, 64, 32)           9248      ['activation_91[1][0]']       \n",
            "                                                                                                  \n",
            " activation_92 (Activation)  (None, 64, 64, 96)           0         ['batch_normalization_92[1][0]\n",
            "                                                                    ']                            \n",
            "                                                                                                  \n",
            " tf.__operators__.add_58 (T  (None, 64, 64, 32)           0         ['conv2d_101[1][0]',          \n",
            " FOpLambda)                                                          'conv2d_102[1][0]']          \n",
            "                                                                                                  \n",
            " conv2d_103 (Conv2D)         (None, 64, 64, 32)           27680     ['activation_92[1][0]']       \n",
            "                                                                                                  \n",
            " tf.__operators__.add_59 (T  (None, 64, 64, 32)           0         ['tf.__operators__.add_58[1][0\n",
            " FOpLambda)                                                         ]',                           \n",
            "                                                                     'conv2d_103[1][0]']          \n",
            "                                                                                                  \n",
            " up_sampling2d_17 (UpSampli  (None, 128, 128, 32)         0         ['tf.__operators__.add_59[1][0\n",
            " ng2D)                                                              ]']                           \n",
            "                                                                                                  \n",
            " conv2d_104 (Conv2D)         (None, 128, 128, 1)          289       ['up_sampling2d_17[1][0]']    \n",
            "                                                                                                  \n",
            "==================================================================================================\n",
            "Total params: 28577973 (109.02 MB)\n",
            "Trainable params: 28560211 (108.95 MB)\n",
            "Non-trainable params: 17762 (69.38 KB)\n",
            "__________________________________________________________________________________________________\n"
          ]
        }
      ],
      "source": [
        "Image_input = Input((height_shape, width_shape,1))\n",
        "Image_in = Lambda(lambda x: x / 255)(Image_input)\n",
        "\n",
        "def batchnorm_relu(inputs):\n",
        "    x = BatchNormalization()(inputs)\n",
        "    x = Activation(\"relu\")(x)\n",
        "    return x\n",
        "\n",
        "def residual_block(inputs, num_filters):\n",
        "    x = batchnorm_relu(inputs)\n",
        "    x = Conv2D(num_filters, (3, 3), padding=\"same\", strides=2)(x)\n",
        "    x = batchnorm_relu(x)\n",
        "    x = Conv2D(num_filters, (3, 3), padding=\"same\", strides=1)(x)\n",
        "    s = Conv2D(num_filters, (1,1), padding=\"same\", strides=2)(inputs)\n",
        "    x = x + s\n",
        "    return x\n",
        "\n",
        "def encoder_block_in(inputs, num_filters,strides):\n",
        "    x = batchnorm_relu(inputs)\n",
        "    x = Conv2D(num_filters, (3, 3), padding=\"same\", strides=strides)(x)\n",
        "\n",
        "    return x\n",
        "\n",
        "def encoder_block(inputs, num_filters):\n",
        "    s1=encoder_block_in(inputs, num_filters,2)\n",
        "    s2=encoder_block_in(inputs, num_filters,2)\n",
        "    s3=encoder_block_in(s1, num_filters,1)\n",
        "    x=s1+s2+s3\n",
        "    return x\n",
        "\n",
        "def decoder_block_in(inputs, num_filters):\n",
        "    x = batchnorm_relu(inputs)\n",
        "    x = Conv2D(num_filters, (3, 3), padding=\"same\", strides=1)(x)\n",
        "    return x\n",
        "\n",
        "def decoder_block(inputs, skip_features, num_filters):\n",
        "    #x = UpSampling2D((2, 2))(inputs)\n",
        "    x = Concatenate()([inputs, skip_features])\n",
        "    s1=decoder_block_in(x, num_filters)\n",
        "    s2=decoder_block_in(s1, num_filters)\n",
        "    s3=decoder_block_in(x, num_filters)\n",
        "    x=s1+s2+s3\n",
        "    x = UpSampling2D((2, 2))(x)\n",
        "    return x\n",
        "\n",
        "\n",
        "def build_resunet(inputs):\n",
        "    #inputs = Input(input_shape)\n",
        "    print(inputs.shape)\n",
        "    x=residual_block(inputs, 16)\n",
        "    print(\"primer residual block\")\n",
        "    print(x.shape)\n",
        "\n",
        "    #Encoding\n",
        "    x0 = Conv2D(32, (3, 3), padding=\"same\", strides=1)(x)\n",
        "    print(\"Enco 0\")\n",
        "    print(x0.shape)\n",
        "\n",
        "    x1=encoder_block(x0, 64)\n",
        "    print(\"encoding 1\")\n",
        "    print(x1.shape)\n",
        "\n",
        "    x2=encoder_block(x1, 128)\n",
        "    print(\"encoding 2\")\n",
        "    print(x2.shape)\n",
        "\n",
        "\n",
        "    x3=encoder_block(x2, 256)\n",
        "    print(\"encoding 3\")\n",
        "    print(x3.shape)\n",
        "\n",
        "    x4=encoder_block(x3, 512)\n",
        "    print(\"encoding 4\")\n",
        "    print(x4.shape)\n",
        "\n",
        "    #Residualblock\n",
        "    xx=residual_block(x4, 512)\n",
        "    print(\"residual block btw\")\n",
        "    print(xx.shape)\n",
        "\n",
        "    xx2=UpSampling2D((2, 2))(xx)\n",
        "    print(xx2.shape)\n",
        "\n",
        "    print(\"Decoding\")\n",
        "    #Decoding\n",
        "\n",
        "    y0=decoder_block(xx2,x4, 512)\n",
        "    print(\"dencoding 0\")\n",
        "    print(y0.shape)\n",
        "\n",
        "    y=decoder_block(y0,x3, 256)\n",
        "    print(\"dencoding 1\")\n",
        "    print(y.shape)\n",
        "\n",
        "    y1=decoder_block(y,x2,128)\n",
        "    print(\"dencoding 2\")\n",
        "    print(y1.shape)\n",
        "\n",
        "    y2=decoder_block(y1,x1,64)\n",
        "    print(\"dencoding 3\")\n",
        "    print(y2.shape)\n",
        "\n",
        "    y3=decoder_block(y2,x0,32)\n",
        "    print(\"dencoding 4\")\n",
        "    print(y3.shape)\n",
        "\n",
        "\n",
        "    #outputs = Conv2D(1, 1, padding=\"same\", activation=\"sigmoid\")(y3)\n",
        "    outputs = Conv2D(1, kernel_size=(3, 3), padding=\"same\", activation=\"sigmoid\")(y3)\n",
        "    print(outputs.shape)\n",
        "\n",
        "    \"\"\" Model \"\"\"\n",
        "    model = Model(inputs, outputs)\n",
        "    model.compile(optimizer='adam',\n",
        "                  loss=['binary_crossentropy'],\n",
        "                  metrics=['accuracy',\n",
        "                           tf.keras.metrics.Precision(),\n",
        "                           tf.keras.metrics.Recall(),\n",
        "                           ])\n",
        "\n",
        "    return model\n",
        "\n",
        "if __name__ == \"__main__\":\n",
        "    model = build_resunet(Image_in)\n",
        "    model.summary()"
      ]
    },
    {
      "cell_type": "code",
      "execution_count": 10,
      "metadata": {
        "id": "JswMBz2_CkVQ"
      },
      "outputs": [],
      "source": [
        "from keras.utils import plot_model\n",
        "#plot_model(model,\"model_v0.png\",show_shapes=True)"
      ]
    },
    {
      "cell_type": "markdown",
      "metadata": {
        "id": "w_Zb5VqEYA_Q"
      },
      "source": [
        "# Cargar datos"
      ]
    },
    {
      "cell_type": "code",
      "execution_count": 11,
      "metadata": {
        "colab": {
          "base_uri": "https://localhost:8080/"
        },
        "id": "in-xYqf3VzYG",
        "outputId": "ffb6fbfb-12c8-4ab9-abf0-1bd89a402991"
      },
      "outputs": [
        {
          "output_type": "stream",
          "name": "stderr",
          "text": [
            "  0%|          | 17/10000 [00:41<6:24:25,  2.31s/it]/usr/local/lib/python3.10/dist-packages/numpy/core/fromnumeric.py:3504: RuntimeWarning: Mean of empty slice.\n",
            "  return _methods._mean(a, axis=axis, dtype=dtype,\n",
            "/usr/local/lib/python3.10/dist-packages/numpy/core/_methods.py:129: RuntimeWarning: invalid value encountered in scalar divide\n",
            "  ret = ret.dtype.type(ret / rcount)\n",
            "100%|██████████| 10000/10000 [7:10:13<00:00,  2.58s/it]\n"
          ]
        },
        {
          "output_type": "stream",
          "name": "stdout",
          "text": [
            "\n",
            "\n",
            "Xtrain: (8000, 128, 128)\n",
            "Ytrain: (8000, 128, 128, 1)\n",
            "Xtest: (2000, 128, 128)\n",
            "Ytest: (2000, 128, 128, 1)\n"
          ]
        }
      ],
      "source": [
        "data_list_train2=data_list_train[:10000]\n",
        "#len(data_list_train2)\n",
        "X_train,Y_train,X_test,Y_test,OL=loaddata(data_list_train2)"
      ]
    },
    {
      "cell_type": "markdown",
      "metadata": {
        "id": "BKjRdlBLOW02"
      },
      "source": [
        "# Entrenamiento"
      ]
    },
    {
      "cell_type": "code",
      "execution_count": 63,
      "metadata": {
        "colab": {
          "base_uri": "https://localhost:8080/"
        },
        "id": "jSntw12RTBF2",
        "outputId": "aa8bd651-e16b-43bb-cb02-a9c600501280"
      },
      "outputs": [
        {
          "output_type": "stream",
          "name": "stdout",
          "text": [
            "Epoch 1/40\n",
            "500/500 [==============================] - ETA: 0s - loss: 0.0256 - accuracy: 0.9914 - precision_7: 0.4511 - recall_7: 0.2343\n",
            "Epoch 1: saving model to red/cp3.ckpt\n",
            "500/500 [==============================] - 65s 95ms/step - loss: 0.0256 - accuracy: 0.9914 - precision_7: 0.4511 - recall_7: 0.2343 - val_loss: 0.0224 - val_accuracy: 0.9923 - val_precision_7: 0.6524 - val_recall_7: 0.1769\n",
            "Epoch 2/40\n",
            "500/500 [==============================] - ETA: 0s - loss: 0.0171 - accuracy: 0.9930 - precision_7: 0.6282 - recall_7: 0.3607\n",
            "Epoch 2: saving model to red/cp3.ckpt\n",
            "500/500 [==============================] - 46s 92ms/step - loss: 0.0171 - accuracy: 0.9930 - precision_7: 0.6282 - recall_7: 0.3607 - val_loss: 0.0164 - val_accuracy: 0.9932 - val_precision_7: 0.6557 - val_recall_7: 0.4193\n",
            "Epoch 3/40\n",
            "500/500 [==============================] - ETA: 0s - loss: 0.0155 - accuracy: 0.9936 - precision_7: 0.6740 - recall_7: 0.4270\n",
            "Epoch 3: saving model to red/cp3.ckpt\n",
            "500/500 [==============================] - 46s 92ms/step - loss: 0.0155 - accuracy: 0.9936 - precision_7: 0.6740 - recall_7: 0.4270 - val_loss: 0.0155 - val_accuracy: 0.9936 - val_precision_7: 0.6793 - val_recall_7: 0.4543\n",
            "Epoch 4/40\n",
            "500/500 [==============================] - ETA: 0s - loss: 0.0144 - accuracy: 0.9940 - precision_7: 0.7037 - recall_7: 0.4738\n",
            "Epoch 4: saving model to red/cp3.ckpt\n",
            "500/500 [==============================] - 46s 93ms/step - loss: 0.0144 - accuracy: 0.9940 - precision_7: 0.7037 - recall_7: 0.4738 - val_loss: 0.0148 - val_accuracy: 0.9940 - val_precision_7: 0.7580 - val_recall_7: 0.4196\n",
            "Epoch 5/40\n",
            "500/500 [==============================] - ETA: 0s - loss: 0.0135 - accuracy: 0.9944 - precision_7: 0.7290 - recall_7: 0.5139\n",
            "Epoch 5: saving model to red/cp3.ckpt\n",
            "500/500 [==============================] - 46s 92ms/step - loss: 0.0135 - accuracy: 0.9944 - precision_7: 0.7290 - recall_7: 0.5139 - val_loss: 0.0144 - val_accuracy: 0.9942 - val_precision_7: 0.7103 - val_recall_7: 0.5285\n",
            "Epoch 6/40\n",
            "500/500 [==============================] - ETA: 0s - loss: 0.0129 - accuracy: 0.9948 - precision_7: 0.7469 - recall_7: 0.5472\n",
            "Epoch 6: saving model to red/cp3.ckpt\n",
            "500/500 [==============================] - 46s 93ms/step - loss: 0.0129 - accuracy: 0.9948 - precision_7: 0.7469 - recall_7: 0.5472 - val_loss: 0.0133 - val_accuracy: 0.9947 - val_precision_7: 0.7418 - val_recall_7: 0.5648\n",
            "Epoch 7/40\n",
            "500/500 [==============================] - ETA: 0s - loss: 0.0118 - accuracy: 0.9952 - precision_7: 0.7709 - recall_7: 0.5931\n",
            "Epoch 7: saving model to red/cp3.ckpt\n",
            "500/500 [==============================] - 46s 92ms/step - loss: 0.0118 - accuracy: 0.9952 - precision_7: 0.7709 - recall_7: 0.5931 - val_loss: 0.0129 - val_accuracy: 0.9949 - val_precision_7: 0.7734 - val_recall_7: 0.5563\n",
            "Epoch 8/40\n",
            "500/500 [==============================] - ETA: 0s - loss: 0.0109 - accuracy: 0.9956 - precision_7: 0.7920 - recall_7: 0.6344\n",
            "Epoch 8: saving model to red/cp3.ckpt\n",
            "500/500 [==============================] - 46s 93ms/step - loss: 0.0109 - accuracy: 0.9956 - precision_7: 0.7920 - recall_7: 0.6344 - val_loss: 0.0132 - val_accuracy: 0.9950 - val_precision_7: 0.8393 - val_recall_7: 0.4989\n",
            "Epoch 9/40\n",
            "500/500 [==============================] - ETA: 0s - loss: 0.0101 - accuracy: 0.9960 - precision_7: 0.8116 - recall_7: 0.6713\n",
            "Epoch 9: saving model to red/cp3.ckpt\n",
            "500/500 [==============================] - 47s 93ms/step - loss: 0.0101 - accuracy: 0.9960 - precision_7: 0.8116 - recall_7: 0.6713 - val_loss: 0.0116 - val_accuracy: 0.9954 - val_precision_7: 0.7668 - val_recall_7: 0.6591\n",
            "Epoch 10/40\n",
            "500/500 [==============================] - ETA: 0s - loss: 0.0093 - accuracy: 0.9964 - precision_7: 0.8262 - recall_7: 0.7040\n",
            "Epoch 10: saving model to red/cp3.ckpt\n",
            "500/500 [==============================] - 46s 93ms/step - loss: 0.0093 - accuracy: 0.9964 - precision_7: 0.8262 - recall_7: 0.7040 - val_loss: 0.0108 - val_accuracy: 0.9958 - val_precision_7: 0.7828 - val_recall_7: 0.6926\n",
            "Epoch 11/40\n",
            "500/500 [==============================] - ETA: 0s - loss: 0.0086 - accuracy: 0.9967 - precision_7: 0.8408 - recall_7: 0.7333\n",
            "Epoch 11: saving model to red/cp3.ckpt\n",
            "500/500 [==============================] - 46s 93ms/step - loss: 0.0086 - accuracy: 0.9967 - precision_7: 0.8408 - recall_7: 0.7333 - val_loss: 0.0103 - val_accuracy: 0.9961 - val_precision_7: 0.8231 - val_recall_7: 0.6842\n",
            "Epoch 12/40\n",
            "500/500 [==============================] - ETA: 0s - loss: 0.0079 - accuracy: 0.9969 - precision_7: 0.8534 - recall_7: 0.7576\n",
            "Epoch 12: saving model to red/cp3.ckpt\n",
            "500/500 [==============================] - 46s 92ms/step - loss: 0.0079 - accuracy: 0.9969 - precision_7: 0.8534 - recall_7: 0.7576 - val_loss: 0.0100 - val_accuracy: 0.9962 - val_precision_7: 0.7969 - val_recall_7: 0.7383\n",
            "Epoch 13/40\n",
            "500/500 [==============================] - ETA: 0s - loss: 0.0074 - accuracy: 0.9971 - precision_7: 0.8616 - recall_7: 0.7764\n",
            "Epoch 13: saving model to red/cp3.ckpt\n",
            "500/500 [==============================] - 46s 92ms/step - loss: 0.0074 - accuracy: 0.9971 - precision_7: 0.8616 - recall_7: 0.7764 - val_loss: 0.0099 - val_accuracy: 0.9963 - val_precision_7: 0.8049 - val_recall_7: 0.7434\n",
            "Epoch 14/40\n",
            "500/500 [==============================] - ETA: 0s - loss: 0.0068 - accuracy: 0.9974 - precision_7: 0.8716 - recall_7: 0.7956\n",
            "Epoch 14: saving model to red/cp3.ckpt\n",
            "500/500 [==============================] - 46s 93ms/step - loss: 0.0068 - accuracy: 0.9974 - precision_7: 0.8716 - recall_7: 0.7956 - val_loss: 0.0090 - val_accuracy: 0.9966 - val_precision_7: 0.8170 - val_recall_7: 0.7697\n",
            "Epoch 15/40\n",
            "500/500 [==============================] - ETA: 0s - loss: 0.0065 - accuracy: 0.9975 - precision_7: 0.8770 - recall_7: 0.8087\n",
            "Epoch 15: saving model to red/cp3.ckpt\n",
            "500/500 [==============================] - 46s 92ms/step - loss: 0.0065 - accuracy: 0.9975 - precision_7: 0.8770 - recall_7: 0.8087 - val_loss: 0.0094 - val_accuracy: 0.9966 - val_precision_7: 0.8350 - val_recall_7: 0.7446\n",
            "Epoch 16/40\n",
            "500/500 [==============================] - ETA: 0s - loss: 0.0061 - accuracy: 0.9976 - precision_7: 0.8838 - recall_7: 0.8210\n",
            "Epoch 16: saving model to red/cp3.ckpt\n",
            "500/500 [==============================] - 46s 93ms/step - loss: 0.0061 - accuracy: 0.9976 - precision_7: 0.8838 - recall_7: 0.8210 - val_loss: 0.0089 - val_accuracy: 0.9967 - val_precision_7: 0.8735 - val_recall_7: 0.7192\n",
            "Epoch 17/40\n",
            "500/500 [==============================] - ETA: 0s - loss: 0.0058 - accuracy: 0.9978 - precision_7: 0.8889 - recall_7: 0.8317\n",
            "Epoch 17: saving model to red/cp3.ckpt\n",
            "500/500 [==============================] - 46s 93ms/step - loss: 0.0058 - accuracy: 0.9978 - precision_7: 0.8889 - recall_7: 0.8317 - val_loss: 0.0093 - val_accuracy: 0.9967 - val_precision_7: 0.8951 - val_recall_7: 0.6869\n",
            "Epoch 18/40\n",
            "500/500 [==============================] - ETA: 0s - loss: 0.0056 - accuracy: 0.9979 - precision_7: 0.8927 - recall_7: 0.8393\n",
            "Epoch 18: saving model to red/cp3.ckpt\n",
            "500/500 [==============================] - 46s 93ms/step - loss: 0.0056 - accuracy: 0.9979 - precision_7: 0.8927 - recall_7: 0.8393 - val_loss: 0.0086 - val_accuracy: 0.9968 - val_precision_7: 0.8220 - val_recall_7: 0.7986\n",
            "Epoch 19/40\n",
            "500/500 [==============================] - ETA: 0s - loss: 0.0052 - accuracy: 0.9980 - precision_7: 0.8985 - recall_7: 0.8497\n",
            "Epoch 19: saving model to red/cp3.ckpt\n",
            "500/500 [==============================] - 46s 93ms/step - loss: 0.0052 - accuracy: 0.9980 - precision_7: 0.8985 - recall_7: 0.8497 - val_loss: 0.0084 - val_accuracy: 0.9969 - val_precision_7: 0.8415 - val_recall_7: 0.7852\n",
            "Epoch 20/40\n",
            "500/500 [==============================] - ETA: 0s - loss: 0.0051 - accuracy: 0.9980 - precision_7: 0.9017 - recall_7: 0.8557\n",
            "Epoch 20: saving model to red/cp3.ckpt\n",
            "500/500 [==============================] - 46s 92ms/step - loss: 0.0051 - accuracy: 0.9980 - precision_7: 0.9017 - recall_7: 0.8557 - val_loss: 0.0084 - val_accuracy: 0.9971 - val_precision_7: 0.8577 - val_recall_7: 0.7808\n",
            "Epoch 21/40\n",
            "500/500 [==============================] - ETA: 0s - loss: 0.0048 - accuracy: 0.9981 - precision_7: 0.9055 - recall_7: 0.8622\n",
            "Epoch 21: saving model to red/cp3.ckpt\n",
            "500/500 [==============================] - 46s 92ms/step - loss: 0.0048 - accuracy: 0.9981 - precision_7: 0.9055 - recall_7: 0.8622 - val_loss: 0.0081 - val_accuracy: 0.9971 - val_precision_7: 0.8479 - val_recall_7: 0.8025\n",
            "Epoch 22/40\n",
            "500/500 [==============================] - ETA: 0s - loss: 0.0046 - accuracy: 0.9982 - precision_7: 0.9097 - recall_7: 0.8698\n",
            "Epoch 22: saving model to red/cp3.ckpt\n",
            "500/500 [==============================] - 46s 92ms/step - loss: 0.0046 - accuracy: 0.9982 - precision_7: 0.9097 - recall_7: 0.8698 - val_loss: 0.0100 - val_accuracy: 0.9969 - val_precision_7: 0.8763 - val_recall_7: 0.7415\n",
            "Epoch 23/40\n",
            "500/500 [==============================] - ETA: 0s - loss: 0.0045 - accuracy: 0.9983 - precision_7: 0.9124 - recall_7: 0.8740\n",
            "Epoch 23: saving model to red/cp3.ckpt\n",
            "500/500 [==============================] - 46s 92ms/step - loss: 0.0045 - accuracy: 0.9983 - precision_7: 0.9124 - recall_7: 0.8740 - val_loss: 0.0082 - val_accuracy: 0.9972 - val_precision_7: 0.8536 - val_recall_7: 0.8050\n",
            "Epoch 24/40\n",
            "500/500 [==============================] - ETA: 0s - loss: 0.0043 - accuracy: 0.9983 - precision_7: 0.9149 - recall_7: 0.8786\n",
            "Epoch 24: saving model to red/cp3.ckpt\n",
            "500/500 [==============================] - 46s 93ms/step - loss: 0.0043 - accuracy: 0.9983 - precision_7: 0.9149 - recall_7: 0.8786 - val_loss: 0.0083 - val_accuracy: 0.9972 - val_precision_7: 0.8641 - val_recall_7: 0.7959\n",
            "Epoch 25/40\n",
            "500/500 [==============================] - ETA: 0s - loss: 0.0042 - accuracy: 0.9984 - precision_7: 0.9178 - recall_7: 0.8838\n",
            "Epoch 25: saving model to red/cp3.ckpt\n",
            "500/500 [==============================] - 46s 92ms/step - loss: 0.0042 - accuracy: 0.9984 - precision_7: 0.9178 - recall_7: 0.8838 - val_loss: 0.0080 - val_accuracy: 0.9973 - val_precision_7: 0.8716 - val_recall_7: 0.7952\n",
            "Epoch 26/40\n",
            "500/500 [==============================] - ETA: 0s - loss: 0.0040 - accuracy: 0.9985 - precision_7: 0.9211 - recall_7: 0.8891\n",
            "Epoch 26: saving model to red/cp3.ckpt\n",
            "500/500 [==============================] - 46s 92ms/step - loss: 0.0040 - accuracy: 0.9985 - precision_7: 0.9211 - recall_7: 0.8891 - val_loss: 0.0082 - val_accuracy: 0.9972 - val_precision_7: 0.8693 - val_recall_7: 0.7907\n",
            "Epoch 27/40\n",
            "500/500 [==============================] - ETA: 0s - loss: 0.0039 - accuracy: 0.9985 - precision_7: 0.9230 - recall_7: 0.8920\n",
            "Epoch 27: saving model to red/cp3.ckpt\n",
            "500/500 [==============================] - 46s 92ms/step - loss: 0.0039 - accuracy: 0.9985 - precision_7: 0.9230 - recall_7: 0.8920 - val_loss: 0.0081 - val_accuracy: 0.9973 - val_precision_7: 0.8466 - val_recall_7: 0.8249\n",
            "Epoch 28/40\n",
            "500/500 [==============================] - ETA: 0s - loss: 0.0038 - accuracy: 0.9985 - precision_7: 0.9251 - recall_7: 0.8958\n",
            "Epoch 28: saving model to red/cp3.ckpt\n",
            "500/500 [==============================] - 46s 93ms/step - loss: 0.0038 - accuracy: 0.9985 - precision_7: 0.9251 - recall_7: 0.8958 - val_loss: 0.0080 - val_accuracy: 0.9973 - val_precision_7: 0.8650 - val_recall_7: 0.8107\n",
            "Epoch 29/40\n",
            "500/500 [==============================] - ETA: 0s - loss: 0.0036 - accuracy: 0.9986 - precision_7: 0.9282 - recall_7: 0.9009\n",
            "Epoch 29: saving model to red/cp3.ckpt\n",
            "500/500 [==============================] - 46s 93ms/step - loss: 0.0036 - accuracy: 0.9986 - precision_7: 0.9282 - recall_7: 0.9009 - val_loss: 0.0079 - val_accuracy: 0.9974 - val_precision_7: 0.8681 - val_recall_7: 0.8107\n",
            "Epoch 30/40\n",
            "500/500 [==============================] - ETA: 0s - loss: 0.0035 - accuracy: 0.9987 - precision_7: 0.9311 - recall_7: 0.9048\n",
            "Epoch 30: saving model to red/cp3.ckpt\n",
            "500/500 [==============================] - 46s 92ms/step - loss: 0.0035 - accuracy: 0.9987 - precision_7: 0.9311 - recall_7: 0.9048 - val_loss: 0.0082 - val_accuracy: 0.9973 - val_precision_7: 0.8430 - val_recall_7: 0.8378\n",
            "Epoch 31/40\n",
            "500/500 [==============================] - ETA: 0s - loss: 0.0034 - accuracy: 0.9987 - precision_7: 0.9322 - recall_7: 0.9072\n",
            "Epoch 31: saving model to red/cp3.ckpt\n",
            "500/500 [==============================] - 46s 92ms/step - loss: 0.0034 - accuracy: 0.9987 - precision_7: 0.9322 - recall_7: 0.9072 - val_loss: 0.0081 - val_accuracy: 0.9974 - val_precision_7: 0.8772 - val_recall_7: 0.8085\n",
            "Epoch 32/40\n",
            "500/500 [==============================] - ETA: 0s - loss: 0.0033 - accuracy: 0.9987 - precision_7: 0.9348 - recall_7: 0.9111\n",
            "Epoch 32: saving model to red/cp3.ckpt\n",
            "500/500 [==============================] - 46s 93ms/step - loss: 0.0033 - accuracy: 0.9987 - precision_7: 0.9348 - recall_7: 0.9111 - val_loss: 0.0084 - val_accuracy: 0.9973 - val_precision_7: 0.8412 - val_recall_7: 0.8397\n",
            "Epoch 33/40\n",
            "500/500 [==============================] - ETA: 0s - loss: 0.0032 - accuracy: 0.9988 - precision_7: 0.9373 - recall_7: 0.9142\n",
            "Epoch 33: saving model to red/cp3.ckpt\n",
            "500/500 [==============================] - 46s 92ms/step - loss: 0.0032 - accuracy: 0.9988 - precision_7: 0.9373 - recall_7: 0.9142 - val_loss: 0.0087 - val_accuracy: 0.9974 - val_precision_7: 0.8990 - val_recall_7: 0.7820\n",
            "Epoch 33: early stopping\n"
          ]
        }
      ],
      "source": [
        "from tensorflow.keras.callbacks import EarlyStopping\n",
        "#Modelcheckpoint\n",
        "checkpoint_path = \"red/cp3.ckpt\"\n",
        "checkpoint_dir = os.path.dirname(checkpoint_path)\n",
        "\n",
        "# Create a callback that saves the model's weights\n",
        "callback = [\n",
        "            tf.keras.callbacks.ModelCheckpoint(filepath=checkpoint_path,\n",
        "                                                 save_weights_only=True,\n",
        "                                                 verbose=1),\n",
        "            EarlyStopping(monitor='val_loss', patience=4, verbose=1, mode=\"auto\"),\n",
        "            tf.keras.callbacks.TensorBoard(log_dir='logs')\n",
        "            ]\n",
        "\n",
        "\n",
        "results = model.fit(X_train,\n",
        "                    Y_train,\n",
        "                    validation_split=0.1,\n",
        "                    batch_size=batch_size,\n",
        "                    epochs=40,\n",
        "                    validation_data=(X_test,Y_test),\n",
        "                    callbacks=[callback])"
      ]
    },
    {
      "cell_type": "code",
      "execution_count": null,
      "metadata": {
        "id": "5N8zNc9NAmsI"
      },
      "outputs": [],
      "source": [
        "gra_train(results)"
      ]
    },
    {
      "cell_type": "code",
      "execution_count": 64,
      "metadata": {
        "id": "-o5aK00XYL6o",
        "colab": {
          "base_uri": "https://localhost:8080/"
        },
        "outputId": "ed94e98a-3c98-4b85-900c-309c92772cf6"
      },
      "outputs": [
        {
          "output_type": "stream",
          "name": "stderr",
          "text": [
            "/usr/local/lib/python3.10/dist-packages/keras/src/engine/training.py:3103: UserWarning: You are saving your model as an HDF5 file via `model.save()`. This file format is considered legacy. We recommend using instead the native Keras format, e.g. `model.save('my_model.keras')`.\n",
            "  saving_api.save_model(\n"
          ]
        }
      ],
      "source": [
        "model.save('/content/drive/MyDrive/Universidad/CPS/Trabajo_de_Grado/Pulmonary/FASES/FASE_Z/RedANet_v3.h5')"
      ]
    },
    {
      "cell_type": "code",
      "execution_count": 65,
      "metadata": {
        "colab": {
          "base_uri": "https://localhost:8080/"
        },
        "id": "fNY0w-KSAlqv",
        "outputId": "da6d6384-ca08-40f1-a224-565b9e6c6a72"
      },
      "outputs": [
        {
          "output_type": "stream",
          "name": "stdout",
          "text": [
            "Test loss: 0.008696209639310837\n",
            "Test accuracy: 0.997417151927948\n"
          ]
        }
      ],
      "source": [
        "score = model.evaluate(X_test, Y_test, verbose=0)\n",
        "print('Test loss:', score[0])\n",
        "print('Test accuracy:', score[1])"
      ]
    },
    {
      "cell_type": "markdown",
      "metadata": {
        "id": "tI8IqTTdK3y-"
      },
      "source": [
        "# Cargar el modelo entrenado\n"
      ]
    },
    {
      "cell_type": "code",
      "execution_count": 66,
      "metadata": {
        "id": "mGYDGziPK-zU"
      },
      "outputs": [],
      "source": [
        "from keras.models import load_model\n",
        "my_model = load_model('/content/drive/MyDrive/Universidad/CPS/Trabajo_de_Grado/Pulmonary/FASES/FASE_Z/RedANet_v3.h5', compile=False)"
      ]
    },
    {
      "cell_type": "code",
      "execution_count": 67,
      "metadata": {
        "id": "FjxGVRyEvUc7"
      },
      "outputs": [],
      "source": [
        "gg=len(my_model.layers)\n",
        "for layer in my_model.layers[:gg]:\n",
        "    layer.trainable = False"
      ]
    },
    {
      "cell_type": "code",
      "execution_count": 68,
      "metadata": {
        "id": "dYzjo1j0vVxp"
      },
      "outputs": [],
      "source": [
        "model2 = tf.keras.models.Sequential()\n",
        "model2.add(my_model)\n",
        "\n",
        "model2.compile(optimizer='adam',\n",
        "                loss=['binary_crossentropy'],\n",
        "                metrics=['accuracy',\n",
        "                        tf.keras.metrics.Precision(),\n",
        "                        tf.keras.metrics.Recall(),\n",
        "                        ])"
      ]
    },
    {
      "cell_type": "code",
      "execution_count": 69,
      "metadata": {
        "colab": {
          "base_uri": "https://localhost:8080/"
        },
        "id": "pMVnGiVwLO2U",
        "outputId": "667e9fdb-77d5-48e7-aa79-60eac3426b5a"
      },
      "outputs": [
        {
          "output_type": "stream",
          "name": "stdout",
          "text": [
            "Test loss: 0.008696209639310837\n",
            "Test accuracy: 0.997417151927948\n"
          ]
        }
      ],
      "source": [
        "score = model2.evaluate(X_test, Y_test, verbose=0)\n",
        "print('Test loss:', score[0])\n",
        "print('Test accuracy:', score[1])"
      ]
    },
    {
      "cell_type": "markdown",
      "metadata": {
        "id": "oemMCex-G_R9"
      },
      "source": [
        "# Resultados entrenamiento\n",
        "\n",
        "Para esta parte se visualiza aleatoriamente una imagen de entrenamiento con su respectiva predicción y label."
      ]
    },
    {
      "cell_type": "code",
      "execution_count": 70,
      "metadata": {
        "colab": {
          "base_uri": "https://localhost:8080/"
        },
        "id": "OBanOQMwGWWb",
        "outputId": "4b8cf3bf-3c78-4057-846a-8f9071114aea"
      },
      "outputs": [
        {
          "output_type": "stream",
          "name": "stdout",
          "text": [
            "225/225 [==============================] - 9s 36ms/step\n",
            "25/25 [==============================] - 1s 35ms/step\n",
            "63/63 [==============================] - 3s 36ms/step\n"
          ]
        }
      ],
      "source": [
        "import random\n",
        "\n",
        "seed = 42\n",
        "np.random.seed = seed\n",
        "\n",
        "idx = random.randint(0, len(X_train))\n",
        "\n",
        "\n",
        "preds_train = model2.predict(X_train[:int(X_train.shape[0]*0.9)], verbose=1)\n",
        "preds_val = model2.predict(X_train[int(X_train.shape[0]*0.9):], verbose=1)\n",
        "preds_test = model2.predict(X_test, verbose=1)\n",
        "\n",
        "\n",
        "preds_train_t = (preds_train > 0.5).astype(np.uint8)\n",
        "preds_val_t = (preds_val > 0.5).astype(np.uint8)\n",
        "preds_test_t = (preds_test > 0.5).astype(np.uint8)"
      ]
    },
    {
      "cell_type": "code",
      "execution_count": 73,
      "metadata": {
        "colab": {
          "base_uri": "https://localhost:8080/",
          "height": 459
        },
        "id": "6N69hoXKC0jH",
        "outputId": "ea42108f-7e5c-46e3-8ad9-15d515d4d1bf"
      },
      "outputs": [
        {
          "output_type": "display_data",
          "data": {
            "text/plain": [
              "<Figure size 2000x2000 with 3 Axes>"
            ],
            "image/png": "[encoded data removed]"
          },
          "metadata": {}
        }
      ],
      "source": [
        "ix = random.randint(0, len(preds_train_t))\n",
        "\n",
        "plot_predict(X_train[ix],np.squeeze(preds_train_t[ix]),np.squeeze(Y_train[ix]))"
      ]
    },
    {
      "cell_type": "code",
      "execution_count": 74,
      "metadata": {
        "colab": {
          "base_uri": "https://localhost:8080/"
        },
        "id": "aJaAfpXaNdjk",
        "outputId": "f4d1b14e-e6be-4462-e8d0-272f1f5ce266"
      },
      "outputs": [
        {
          "output_type": "stream",
          "name": "stdout",
          "text": [
            "Coeff level dice: 0.8534621578099838\n"
          ]
        }
      ],
      "source": [
        "print(\"Coeff level dice:\", multi_level_dice(np.squeeze(Y_train[ix]),np.squeeze(preds_train_t[ix]) , 2))"
      ]
    },
    {
      "cell_type": "markdown",
      "metadata": {
        "id": "VOu2nlMYH0xe"
      },
      "source": [
        "____________________________________________________________________"
      ]
    },
    {
      "cell_type": "markdown",
      "metadata": {
        "id": "IXyyg05eHlul"
      },
      "source": [
        "**Para esta parte se realiza la predicción de acuerdo al modelo para las imágenes de TEST y se visualiza una imagen de test con su respectiva predicción y label con diferentes umbralizaciones.**"
      ]
    },
    {
      "cell_type": "code",
      "execution_count": 75,
      "metadata": {
        "colab": {
          "base_uri": "https://localhost:8080/"
        },
        "id": "qeT7c3ooye7Z",
        "outputId": "8151b38a-da35-414e-ec8c-467488319456"
      },
      "outputs": [
        {
          "output_type": "stream",
          "name": "stdout",
          "text": [
            "63/63 [==============================] - 2s 35ms/step\n"
          ]
        }
      ],
      "source": [
        "preds_test2 = model2.predict(X_test, verbose=1)"
      ]
    },
    {
      "cell_type": "code",
      "execution_count": 76,
      "metadata": {
        "colab": {
          "base_uri": "https://localhost:8080/",
          "height": 459
        },
        "id": "uGN6L-fPAISD",
        "outputId": "15c9c63e-61aa-4cf2-f13a-77087e8b41f6"
      },
      "outputs": [
        {
          "output_type": "display_data",
          "data": {
            "text/plain": [
              "<Figure size 2000x2000 with 3 Axes>"
            ],
            "image/png": "[encoded data removed]"
          },
          "metadata": {}
        }
      ],
      "source": [
        "preds_test_t3 = (preds_test2)\n",
        "plot_predict(X_test[1120],preds_test_t3[1120],Y_test[1120])\n",
        "#print(\"Coeff level dice:\", multi_level_dice(np.squeeze(Y_test[1120]),np.squeeze(preds_test_t3[1120]) , 4))"
      ]
    },
    {
      "cell_type": "code",
      "execution_count": 77,
      "metadata": {
        "colab": {
          "base_uri": "https://localhost:8080/",
          "height": 478
        },
        "id": "OclEKm34DcjI",
        "outputId": "087f949e-a79f-4fb5-8515-20fc83b6c67d"
      },
      "outputs": [
        {
          "output_type": "stream",
          "name": "stdout",
          "text": [
            "Coeff dice: 0.9132791327913279\n"
          ]
        },
        {
          "output_type": "display_data",
          "data": {
            "text/plain": [
              "<Figure size 2000x2000 with 3 Axes>"
            ],
            "image/png": "[encoded data removed]"
          },
          "metadata": {}
        }
      ],
      "source": [
        "#Aqui se cargar las anotaciones de test y se umbralizan\n",
        "dd=1120\n",
        "preds_test_t5 = (preds_test2)\n",
        "pred_img=preds_test_t5[dd]\n",
        "val=umbral(pred_img)\n",
        "pred_img2=umbral2(pred_img,val)\n",
        "pred_img2=pred_img2[:,:,]\n",
        "\n",
        "OL2=preds_test_t5[dd]\n",
        "OL2=OL2>0.3\n",
        "img_test=(Y_test)\n",
        "img_test2=img_test[dd]\n",
        "\n",
        "test_img=X_test[dd]\n",
        "plot_predict(test_img,OL2,img_test2)\n",
        "print(\"Coeff dice:\",dice_coefficient(OL2,img_test2))"
      ]
    },
    {
      "cell_type": "code",
      "execution_count": 78,
      "metadata": {
        "colab": {
          "base_uri": "https://localhost:8080/",
          "height": 563
        },
        "id": "Fe_1zrnqkTMd",
        "outputId": "9bddcd67-4d7c-4e7b-f855-50a25b7c1312"
      },
      "outputs": [
        {
          "output_type": "execute_result",
          "data": {
            "text/plain": [
              "<matplotlib.colorbar.Colorbar at 0x7c7fa136b9d0>"
            ]
          },
          "metadata": {},
          "execution_count": 78
        },
        {
          "output_type": "display_data",
          "data": {
            "text/plain": [
              "<Figure size 2000x2000 with 4 Axes>"
            ],
            "image/png": "[encoded data removed]"
          },
          "metadata": {}
        }
      ],
      "source": [
        "import matplotlib as mpl\n",
        "\n",
        "cmap = mpl.cm.cool\n",
        "#plt.imshow(OL[1120],cmap=cmap)\n",
        "\n",
        "fig, axs = plt.subplots(1,2,figsize=(20, 20) )\n",
        "axs = axs.flatten()\n",
        "\n",
        "a1=axs[0].imshow(pred_img)\n",
        "axs[0].set_axis_off()\n",
        "axs[0].set_title('Predict')\n",
        "plt.colorbar(a1,ax=axs[0],aspect=5)\n",
        "\n",
        "a2=axs[1].imshow(img_test2)\n",
        "axs[1].set_axis_off()\n",
        "axs[1].set_title('Label')\n",
        "plt.colorbar(a1,ax=axs[1],aspect=5)"
      ]
    },
    {
      "cell_type": "code",
      "execution_count": 35,
      "metadata": {
        "colab": {
          "base_uri": "https://localhost:8080/"
        },
        "id": "2LwKamJ7kXDa",
        "outputId": "25b1f336-8a98-4660-b960-69abdbad5f41"
      },
      "outputs": [
        {
          "output_type": "execute_result",
          "data": {
            "text/plain": [
              "0.020962588"
            ]
          },
          "metadata": {},
          "execution_count": 35
        }
      ],
      "source": [
        "val"
      ]
    },
    {
      "cell_type": "code",
      "execution_count": 79,
      "metadata": {
        "colab": {
          "base_uri": "https://localhost:8080/"
        },
        "id": "U3HgvO0Xnz_y",
        "outputId": "c0e70a6f-7d64-4136-d15e-3fabe0d8c2c8"
      },
      "outputs": [
        {
          "output_type": "stream",
          "name": "stdout",
          "text": [
            "0.13683075\n"
          ]
        }
      ],
      "source": [
        "des=np.std(pred_img)\n",
        "print(des)"
      ]
    },
    {
      "cell_type": "code",
      "execution_count": 80,
      "metadata": {
        "colab": {
          "base_uri": "https://localhost:8080/",
          "height": 478
        },
        "id": "J7IyvrpHn-jI",
        "outputId": "e0767a6b-5077-4b0c-9464-c55440264902"
      },
      "outputs": [
        {
          "output_type": "stream",
          "name": "stdout",
          "text": [
            "Coeff dice: 0.8992248062015504\n"
          ]
        },
        {
          "output_type": "display_data",
          "data": {
            "text/plain": [
              "<Figure size 2000x2000 with 3 Axes>"
            ],
            "image/png": "[encoded data removed]"
          },
          "metadata": {}
        }
      ],
      "source": [
        "OL3=preds_test_t5[dd]\n",
        "OL3=OL3>des\n",
        "plot_predict(test_img,OL3,img_test2)\n",
        "print(\"Coeff dice:\",dice_coefficient(OL3,img_test2))"
      ]
    },
    {
      "cell_type": "code",
      "execution_count": null,
      "metadata": {
        "id": "atkHiuStp73U"
      },
      "outputs": [],
      "source": [
        "import math\n",
        "\n",
        "def std_deviation(image):\n",
        "    # Obtener el tamaño de la imagen\n",
        "    height, width,_ = image.shape\n",
        "\n",
        "    # Calcular la media de los valores de los píxeles\n",
        "    pixel_sum = 0\n",
        "    pixel_count = 0\n",
        "    for y in range(height):\n",
        "        for x in range(width):\n",
        "            if image[y, x]>np.min(image):\n",
        "                pixel_sum += image[y, x]\n",
        "                pixel_count += 1\n",
        "    pixel_mean = pixel_sum / pixel_count\n",
        "\n",
        "    # Calcular la desviación estándar de los valores de los píxeles\n",
        "    pixel_var = 0\n",
        "    for y in range(height):\n",
        "        for x in range(width):\n",
        "            if image[y, x] > np.min(image):\n",
        "                pixel_var += (image[y, x] - pixel_mean) ** 2\n",
        "    pixel_std_dev = math.sqrt(pixel_var / pixel_count)\n",
        "\n",
        "    print(pixel_count)\n",
        "    return pixel_std_dev"
      ]
    },
    {
      "cell_type": "code",
      "execution_count": null,
      "metadata": {
        "colab": {
          "base_uri": "https://localhost:8080/"
        },
        "id": "ahpfTVqJqbsw",
        "outputId": "4dee1ec5-4a75-4b43-b4cc-b64149513f29"
      },
      "outputs": [
        {
          "name": "stdout",
          "output_type": "stream",
          "text": [
            "16380\n",
            "0.06028653324890151\n"
          ]
        }
      ],
      "source": [
        "des_v2=std_deviation(pred_img)\n",
        "print(des_v2)"
      ]
    },
    {
      "cell_type": "code",
      "execution_count": null,
      "metadata": {
        "colab": {
          "base_uri": "https://localhost:8080/"
        },
        "id": "RwR6NXO_sNpX",
        "outputId": "dc3ad353-cd28-4d65-b0f7-050b4d01041c"
      },
      "outputs": [
        {
          "data": {
            "text/plain": [
              "2.0995848e-33"
            ]
          },
          "execution_count": 95,
          "metadata": {},
          "output_type": "execute_result"
        }
      ],
      "source": [
        "np.min(pred_img)"
      ]
    },
    {
      "cell_type": "code",
      "execution_count": null,
      "metadata": {
        "id": "EhGRDGkZ1s_r"
      },
      "outputs": [],
      "source": [
        "MLD=np.zeros((int(X_test.shape[0]),8))\n",
        "for i in range(int(X_test.shape[0])):\n",
        "    for z in range(8):\n",
        "        try:\n",
        "            value=multi_level_dice(np.squeeze(img_test[i]),np.squeeze(preds_test_t[i]) , z)\n",
        "            if value!=\"NaN\":\n",
        "                MLD[i,z]=value\n",
        "            else:\n",
        "                MLD[i,z]=0\n",
        "        except:\n",
        "            pass\n",
        "    MLD[i,z]=np.max(MLD[i,:])\n",
        "\n",
        "MLD=np.delete(MLD,0,axis=1)"
      ]
    },
    {
      "cell_type": "code",
      "execution_count": null,
      "metadata": {
        "id": "F_B2E9f4bWzu"
      },
      "outputs": [],
      "source": [
        "import pandas as pd\n",
        "g2=pd.DataFrame(MLD)"
      ]
    },
    {
      "cell_type": "code",
      "execution_count": null,
      "metadata": {
        "id": "M9XBRFX0cma2"
      },
      "outputs": [],
      "source": [
        "g2"
      ]
    },
    {
      "cell_type": "code",
      "execution_count": null,
      "metadata": {
        "id": "WmNwoy9vcnbE"
      },
      "outputs": [],
      "source": [
        "np.max(MLD[:,-1])"
      ]
    },
    {
      "cell_type": "code",
      "execution_count": null,
      "metadata": {
        "id": "0nD_B-mif-Ra"
      },
      "outputs": [],
      "source": [
        "np.mean(MLD[:,-1])"
      ]
    },
    {
      "cell_type": "code",
      "execution_count": null,
      "metadata": {
        "id": "A-Diy8zYlF6E"
      },
      "outputs": [],
      "source": [
        "headlist=[\"Nivel1\",\"Nivel2\",\"Nivel3\",\"Nivel4\",\"Nivel5\",\"Nivel6\",\"Mejor\"]\n",
        "g2.columns=headlist"
      ]
    },
    {
      "cell_type": "code",
      "execution_count": null,
      "metadata": {
        "id": "Ut_D4qO0pEi7"
      },
      "outputs": [],
      "source": [
        "g2"
      ]
    },
    {
      "cell_type": "code",
      "execution_count": null,
      "metadata": {
        "id": "KWcit0KpgjXZ"
      },
      "outputs": [],
      "source": [
        "g2.drop(g2[  (g2['Nivel1'] ==0.0) ].index, inplace=True)\n",
        "\n",
        "g2"
      ]
    },
    {
      "cell_type": "code",
      "execution_count": null,
      "metadata": {
        "id": "tMk2D6ntDQXw"
      },
      "outputs": [],
      "source": [
        "np.mean(list(g2.iloc[:, -1]))"
      ]
    },
    {
      "cell_type": "code",
      "execution_count": null,
      "metadata": {
        "id": "Le8q98EmqaI-"
      },
      "outputs": [],
      "source": [
        "np.max(list(g2.iloc[:, -1]))"
      ]
    },
    {
      "cell_type": "code",
      "execution_count": null,
      "metadata": {
        "id": "U5W0Yb9-rRM-"
      },
      "outputs": [],
      "source": [
        "np.min(list(g2.iloc[:, -1]))"
      ]
    },
    {
      "cell_type": "code",
      "execution_count": null,
      "metadata": {
        "id": "nNg6ZGiuvlkq"
      },
      "outputs": [],
      "source": [
        "ex=g2.index\n",
        "posmax=ex[[i for i, e in enumerate(list(g2.iloc[:, -1])) if e == np.max(list(g2.iloc[:, -1]))]]"
      ]
    },
    {
      "cell_type": "code",
      "execution_count": null,
      "metadata": {
        "id": "2XRrIkf4vtQq"
      },
      "outputs": [],
      "source": [
        "posmax[0]"
      ]
    },
    {
      "cell_type": "code",
      "execution_count": null,
      "metadata": {
        "id": "SMJUJ3eq7uLM"
      },
      "outputs": [],
      "source": [
        "va=posmax[0]\n",
        "plot_predict(X_test[va],np.squeeze(preds_test_t5[va]),np.squeeze(img_test[va]))\n",
        "print(\"Coeff level dice:\", multi_level_dice(np.squeeze(img_test[va]),np.squeeze(preds_test_t5[va]) , 4))\n",
        "print(\"Coeff dice:\",dice_coefficient(np.squeeze(img_test[va]), np.squeeze(preds_test_t5[va])))"
      ]
    },
    {
      "cell_type": "markdown",
      "source": [
        "# Results"
      ],
      "metadata": {
        "id": "LF1a_hNwriUl"
      }
    },
    {
      "cell_type": "code",
      "source": [
        "for i in range(len(PP)):\n",
        "    valoresUmn.append(valorU(PP[i]))\n",
        "    PP2[i]=PP[i]>0.5\n",
        "\n",
        "print(\"Media\",np.mean(valoresUmn))\n",
        "print(\"Mediana\",np.median(valoresUmn))\n",
        "print(\"Max\",np.max(valoresUmn))\n",
        "print(\"Min\",np.min(valoresUmn))"
      ],
      "metadata": {
        "colab": {
          "base_uri": "https://localhost:8080/"
        },
        "id": "ky92ESkZrkMw",
        "outputId": "e0ac150d-6fe3-4d8f-c5a0-ed6dab51f5e9"
      },
      "execution_count": 84,
      "outputs": [
        {
          "output_type": "stream",
          "name": "stdout",
          "text": [
            "Media 0.24372962437920936\n",
            "Mediana 0.2526085451245308\n",
            "Max 0.5140161663293839\n",
            "Min 1.3889736862893187e-06\n"
          ]
        }
      ]
    },
    {
      "cell_type": "code",
      "source": [
        "import math\n",
        "import pandas as pd\n",
        "import matplotlib.pyplot as plot\n",
        "\n",
        "Dice=[]\n",
        "valores_dice=[]\n",
        "img_test=(Y_test)\n",
        "preds_test3=PP2\n",
        "for i in range(int(X_test.shape[0])):\n",
        "    nu=dice_coefficient(preds_test3[i],img_test[i])\n",
        "    if math.isnan(nu):\n",
        "        Dice.append('')\n",
        "    else:\n",
        "        Dice.append(nu)\n",
        "\n",
        "\n",
        "data=pd.DataFrame(Dice)\n",
        "headlist=[\"Valor\"]\n",
        "data.columns=headlist\n",
        "data.drop(data[  (data['Valor'] =='') ].index, inplace=True)\n",
        "valores_dice=data[\"Valor\"]\n",
        "\n",
        "plot.hist(x=valores_dice, bins=16, color='#F2AB6D', rwidth=0.85)\n",
        "plot.title('Histograma de Dice')\n",
        "plot.xlabel('valores')\n",
        "plot.ylabel('Frecuencia')\n",
        "\n",
        "plot.show()\n",
        "\n",
        "print(\"Media\",np.mean(valores_dice))\n",
        "print(\"Mediana\",np.median(valores_dice))\n",
        "print(\"Max\",np.max(valores_dice))\n",
        "print(\"Min\",np.min(valores_dice))"
      ],
      "metadata": {
        "colab": {
          "base_uri": "https://localhost:8080/",
          "height": 546
        },
        "id": "qeQI4mBRrr9o",
        "outputId": "8b3a4efd-f83c-44ed-91ff-a1a42834c800"
      },
      "execution_count": 85,
      "outputs": [
        {
          "output_type": "display_data",
          "data": {
            "text/plain": [
              "<Figure size 640x480 with 1 Axes>"
            ],
            "image/png": "[encoded data removed]"
          },
          "metadata": {}
        },
        {
          "output_type": "stream",
          "name": "stdout",
          "text": [
            "Media 0.7639414868624856\n",
            "Mediana 0.8443779108449767\n",
            "Max 1.0\n",
            "Min 0.0\n"
          ]
        }
      ]
    },
    {
      "cell_type": "code",
      "source": [
        "data.to_csv('datos.csv')"
      ],
      "metadata": {
        "id": "i1ONPFB8sjKu"
      },
      "execution_count": 86,
      "outputs": []
    },
    {
      "cell_type": "code",
      "source": [
        "datos=Dice\n",
        "# Calculando los cuartiles\n",
        "primer_cuartil = np.percentile(datos, 25)\n",
        "tercer_cuartil = np.percentile(datos, 75)\n",
        "\n",
        "# Calculando el rango intercuartil\n",
        "iqr = tercer_cuartil - primer_cuartil\n",
        "\n",
        "print(\"Primer cuartil:\", primer_cuartil)\n",
        "print(\"Tercer cuartil:\", tercer_cuartil)\n",
        "print(\"Rango intercuartil (IQR):\", iqr)"
      ],
      "metadata": {
        "colab": {
          "base_uri": "https://localhost:8080/"
        },
        "id": "QqshW7Eqslwq",
        "outputId": "3a3eb3d9-77ad-4d35-9574-d6196063b3d9"
      },
      "execution_count": 87,
      "outputs": [
        {
          "output_type": "stream",
          "name": "stdout",
          "text": [
            "Primer cuartil: 0.7710215863453815\n",
            "Tercer cuartil: 0.8853375796178344\n",
            "Rango intercuartil (IQR): 0.1143159932724529\n"
          ]
        }
      ]
    }
  ],
  "metadata": {
    "accelerator": "GPU",
    "colab": {
      "collapsed_sections": [
        "vKq_byXYXc7y",
        "84150syMXt6K",
        "l9raA994X3Q4",
        "w_Zb5VqEYA_Q",
        "BKjRdlBLOW02",
        "tI8IqTTdK3y-",
        "oemMCex-G_R9",
        "LF1a_hNwriUl"
      ],
      "provenance": [],
      "machine_shape": "hm",
      "gpuType": "T4"
    },
    "kernelspec": {
      "display_name": "Python 3",
      "name": "python3"
    },
    "language_info": {
      "name": "python"
    }
  },
  "nbformat": 4,
  "nbformat_minor": 0
}